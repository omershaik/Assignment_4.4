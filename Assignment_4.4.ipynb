{
 "cells": [
  {
   "cell_type": "markdown",
   "metadata": {},
   "source": [
    "#### A test is conducted which is consisting of 20 MCQs (multiple choices questions) with every MCQ having its four options out of which only one is correct. Determine the probability that a person undertaking that test has answered exactly 5 questions wrong."
   ]
  },
  {
   "cell_type": "markdown",
   "metadata": {},
   "source": [
    "n(Number of trials) = 20 \n",
    "\n",
    "(n - k) = 5  ------> Number of failures\n",
    "\n",
    "k = 20 - 5 = 15 ------> Success attained in 'n' trails\n",
    "\n",
    "Probability of giving a right answer = (S = 1/4)\n",
    "\n",
    "Probability of giving a wrong answer = 1 - S = (1 - 1/4) = 3/4\n",
    "\n",
    "When we substitute these values in the formula for Binomial distribution we get,\n",
    "\n",
    "\n",
    "---> P (5 out of 20) = (20∗19∗18∗17∗16)/(5∗4∗3∗2∗1) * ((1/4)**15) * ((3/4)**5)\n",
    "\n",
    "= 0.0000034\n",
    "\n",
    "probability is 0.0000034\n"
   ]
  },
  {
   "cell_type": "code",
   "execution_count": null,
   "metadata": {
    "collapsed": true
   },
   "outputs": [],
   "source": []
  }
 ],
 "metadata": {
  "kernelspec": {
   "display_name": "Python 3",
   "language": "python",
   "name": "python3"
  },
  "language_info": {
   "codemirror_mode": {
    "name": "ipython",
    "version": 3
   },
   "file_extension": ".py",
   "mimetype": "text/x-python",
   "name": "python",
   "nbconvert_exporter": "python",
   "pygments_lexer": "ipython3",
   "version": "3.6.4"
  }
 },
 "nbformat": 4,
 "nbformat_minor": 2
}
